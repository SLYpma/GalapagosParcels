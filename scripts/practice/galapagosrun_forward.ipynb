{
 "cells": [
  {
   "cell_type": "code",
   "execution_count": 1,
   "metadata": {},
   "outputs": [
    {
     "name": "stdout",
     "output_type": "stream",
     "text": [
      "2.1.6.dev11+g38e73cf\n"
     ]
    }
   ],
   "source": [
    "import parcels\n",
    "print(parcels.__version__)"
   ]
  },
  {
   "cell_type": "code",
   "execution_count": 1,
   "metadata": {},
   "outputs": [],
   "source": [
    "from parcels import FieldSet, Field, ParticleSet, JITParticle, AdvectionRK4, ErrorCode, Variable\n",
    "from datetime import timedelta as delta\n",
    "from glob import glob\n",
    "import numpy as np\n",
    "import xarray as xr\n",
    "import os\n",
    "import warnings\n",
    "warnings.simplefilter('ignore', category=xr.SerializationWarning)"
   ]
  },
  {
   "cell_type": "code",
   "execution_count": 2,
   "metadata": {},
   "outputs": [],
   "source": [
    "# to find the indices of a specific lon-lat box\n",
    "def getclosest_ij(lats,lons,latpt,lonpt):    \n",
    "    \"\"\"Function to find the index of the closest point to a certain lon/lat value.\"\"\"\n",
    "    dist_sq = (lats-latpt)**2 + (lons-lonpt)**2                 # find squared distance of every point on grid\n",
    "    minindex_flattened = dist_sq.argmin()                       # 1D index of minimum dist_sq element\n",
    "    return np.unravel_index(minindex_flattened, lats.shape)     # Get 2D index for latvals and lonvals arrays from 1D index\n",
    "\n",
    "initialgrid_mask = '/data/oceanparcels/input_data/NEMO-MEDUSA/ORCA0083-N006/means/ORCA0083-N06_20070105d05U.nc'\n",
    "mask = xr.open_dataset(initialgrid_mask, decode_times=False)\n",
    "Lat, Lon, Depth = mask.variables['nav_lat'], mask.variables['nav_lon'], mask.variables['depthu']\n",
    "latvals = Lat[:]; lonvals = Lon[:] # extract lat/lon values to numpy arrays\n",
    "\n",
    "iy_min, ix_min = getclosest_ij(latvals, lonvals, -7, -120)\n",
    "iy_max, ix_max = getclosest_ij(latvals, lonvals, 7, -70)\n",
    "\n",
    "print(ix_min)"
   ]
  },
  {
   "cell_type": "code",
   "execution_count": null,
   "metadata": {},
   "outputs": [],
   "source": [
    "ddir = \"/data/oceanparcels/input_data/NEMO-MEDUSA/ORCA0083-N006/\"\n",
    "#odir = \"../../results/output_data\"\n",
    "#fname = os.path.join(odir,\"galapagosparticles_testrun.nc\")\n",
    "fname = \"galapagosparticles_testrun.nc\"\n",
    "\n",
    "# set field, only year 2000\n",
    "ufiles = sorted(glob(ddir+'means/ORCA0083-N06_200[0-0]*d05U.nc'))\n",
    "vfiles = [u.replace('05U.nc', '05V.nc') for u in ufiles]\n",
    "meshfile = glob(ddir+'domain/coordinates.nc')\n",
    "nemofiles = {'U': {'lon': meshfile, 'lat': meshfile, 'data': ufiles},\n",
    "             'V': {'lon': meshfile, 'lat': meshfile, 'data': vfiles}}\n",
    "nemovariables = {'U': 'uo', 'V': 'vo'}\n",
    "nemodimensions = {'lon': 'glamf', 'lat': 'gphif', 'time': 'time_counter'}\n",
    "fieldset = FieldSet.from_nemo(nemofiles, nemovariables, nemodimensions, field_chunksize='auto')\n",
    "\n",
    "fU = fieldset.U\n",
    "fieldset.computeTimeChunk(fU.grid.time[0], 1)    #forward\n",
    "#fieldset.computeTimeChunk(fU.grid.time[-1], -1)  #backward"
   ]
  },
  {
   "cell_type": "code",
   "execution_count": null,
   "metadata": {},
   "outputs": [],
   "source": [
    "#initialize where to start particles\n",
    "galapagos_extent = [-91.8, -89, -1.4, 0.7]\n",
    "startlon, startlat = np.meshgrid(np.arange(galapagos_extent[0], galapagos_extent[1], 0.2),\n",
    "                                 np.arange(galapagos_extent[2], galapagos_extent[3], 0.2))"
   ]
  },
  {
   "cell_type": "code",
   "execution_count": null,
   "metadata": {},
   "outputs": [],
   "source": [
    "#functions to add to the kernel\n",
    "def Age(fieldset, particle, time):\n",
    "    particle.age = particle.age + math.fabs(particle.dt)\n",
    "    if particle.age > 30*86400:\n",
    "        particle.delete()\n",
    "\n",
    "def WrapParticle(particle, fieldset, time):\n",
    "    if particle.lon < -530:\n",
    "        particle.lon += 360        \n",
    "\n",
    "#additional features of the particles        \n",
    "class GalapagosParticle(JITParticle):\n",
    "    age = Variable('age', initial = 0.)            "
   ]
  },
  {
   "cell_type": "code",
   "execution_count": null,
   "metadata": {},
   "outputs": [],
   "source": [
    "# set particle conditions\n",
    "pset = ParticleSet(fieldset=fieldset,\n",
    "                   pclass=GalapagosParticle,\n",
    "                   lon=startlon,\n",
    "                   lat=startlat,\n",
    "                   time=fU.grid.time[0])"
   ]
  },
  {
   "cell_type": "code",
   "execution_count": null,
   "metadata": {},
   "outputs": [],
   "source": [
    "outfile = pset.ParticleFile(name=fname, outputdt=delta(days=1))\n",
    "\n",
    "pset.execute(AdvectionRK4+pset.Kernel(Age)+WrapParticle,\n",
    "             dt=delta(hours=1),\n",
    "             output_file=outfile)\n",
    "\n",
    "outfile.export()\n",
    "outfile.close()"
   ]
  }
 ],
 "metadata": {
  "kernelspec": {
   "display_name": "Python 3",
   "language": "python",
   "name": "python3"
  },
  "language_info": {
   "codemirror_mode": {
    "name": "ipython",
    "version": 3
   },
   "file_extension": ".py",
   "mimetype": "text/x-python",
   "name": "python",
   "nbconvert_exporter": "python",
   "pygments_lexer": "ipython3",
   "version": "3.7.6"
  }
 },
 "nbformat": 4,
 "nbformat_minor": 2
}
